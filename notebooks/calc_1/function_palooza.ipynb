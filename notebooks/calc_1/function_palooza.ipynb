{
 "cells": [
  {
   "attachments": {},
   "cell_type": "markdown",
   "metadata": {},
   "source": [
    "# Function Palooza"
   ]
  },
  {
   "attachments": {},
   "cell_type": "markdown",
   "metadata": {},
   "source": [
    "In physics, there are a handful of functions that you should know by heart. I've outlined them (and their derivatives) here."
   ]
  },
  {
   "attachments": {},
   "cell_type": "markdown",
   "metadata": {},
   "source": [
    "## Constants and Polynomials\n",
    "\n",
    "| Function      | Derivative |\n",
    "| ----------- | ----------- |\n",
    "|$a$| $0$|\n",
    "| $x^a$      | $ax^{a-1}$  |\n",
    "\n",
    "### Example\n",
    "\n",
    "$$\n",
    "\\frac{d}{dx}(7x^4 + 3x^{5/2} + x + 4) = 7\\frac{d}{dx}x^4 + 3\\frac{d}{dx}x^{5/2} \\frac{d}{dx} x + \\frac{d}{dx} 4 = 28x^3 + \\frac{15}{2}x^{3/2} + 1\n",
    "$$\n",
    "\n",
    "By linearity of the derivative and the power rule."
   ]
  },
  {
   "attachments": {},
   "cell_type": "markdown",
   "metadata": {},
   "source": [
    "## Real Valued Exponential\n",
    "\n",
    "| Function      | Derivative |\n",
    "| ----------- | ----------- |\n",
    "| $e^x$ | $e^x$ |\n",
    "\n",
    "The exponential, denoted $e^x$ or $\\exp{(x)}$ is probably the most important function in physics (I would argue in math in general as well). This is because it has the incredible property of being its own derivative.\n",
    "\n",
    "### Example\n",
    "\n",
    "$$\n",
    "\\frac{d}{dx}e^{-2x} = -2e^{-2x}\n",
    "$$\n",
    "\n",
    "By the chain rule. You should become very comfortable with this kind of derivative."
   ]
  },
  {
   "attachments": {},
   "cell_type": "markdown",
   "metadata": {},
   "source": [
    "## Natural Log\n",
    "\n",
    "| Function      | Derivative |\n",
    "| ----------- | ----------- |\n",
    "| $\\ln{(x)}$ | $\\frac{1}{x}$ |\n",
    "\n",
    "The natural log is the inverse of the exponential, that is $\\ln{(e^x)} = x$ and $e^{\\ln{(x)}} = x$. $\\ln{(...)}$ is often denoted by just $\\log{(...)}$. Also, it is good to know that $\\ln{(1)} = 0$.\n",
    "\n",
    "### Properties (log rules)\n",
    "\n",
    "| Log properties      |  |\n",
    "| ----------- | ----------- |\n",
    "| Powers | $\\ln{(x^a)} = a\\ln{(x)}$ | \n",
    "| Products | $\\ln{(xy)} = \\ln{(x)} + \\ln{(y)}$ |\n",
    "|Division | $\\ln{\\frac{x}{y}} = \\ln{(x)} - \\ln{(y)}$|\n",
    "\n",
    "\n",
    "\n",
    "### Exponentials of a different base\n",
    "Now that we know $e^x$ and $\\ln{(x)}$, we can define exponentials of any base:\n",
    "\n",
    "$$\n",
    "a^x = e^{x\\ln{(a)}}\n",
    "$$"
   ]
  },
  {
   "attachments": {},
   "cell_type": "markdown",
   "metadata": {},
   "source": [
    "## Trig Functions"
   ]
  },
  {
   "attachments": {},
   "cell_type": "markdown",
   "metadata": {},
   "source": [
    "## Hyperbolic Trig Functions"
   ]
  },
  {
   "attachments": {},
   "cell_type": "markdown",
   "metadata": {},
   "source": []
  }
 ],
 "metadata": {
  "kernelspec": {
   "display_name": "base",
   "language": "python",
   "name": "python3"
  },
  "language_info": {
   "codemirror_mode": {
    "name": "ipython",
    "version": 3
   },
   "file_extension": ".py",
   "mimetype": "text/x-python",
   "name": "python",
   "nbconvert_exporter": "python",
   "pygments_lexer": "ipython3",
   "version": "3.9.12"
  },
  "orig_nbformat": 4
 },
 "nbformat": 4,
 "nbformat_minor": 2
}
